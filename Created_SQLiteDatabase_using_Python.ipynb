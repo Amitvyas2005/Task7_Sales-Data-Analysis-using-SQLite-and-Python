{
 "cells": [
  {
   "cell_type": "code",
   "execution_count": 3,
   "id": "f0128ccb-4ba3-408a-8e8d-ba902d7595b5",
   "metadata": {},
   "outputs": [],
   "source": [
    "import sqlite3\n",
    "import pandas as pd\n",
    "\n",
    "# Read the CSV file\n",
    "df = pd.read_csv(\"Sales Dataset1.csv\")\n"
   ]
  },
  {
   "cell_type": "code",
   "execution_count": 4,
   "id": "c29c4ba7-fdb8-4795-9b1e-6d399e219aab",
   "metadata": {},
   "outputs": [],
   "source": [
    "# create the SQLite database\n",
    "conn = sqlite3.connect(\"sales_data.db\")\n",
    "cursor = conn.cursor()"
   ]
  },
  {
   "cell_type": "code",
   "execution_count": 5,
   "id": "a175ed30-0870-4ef6-93c6-c8f2267b520a",
   "metadata": {},
   "outputs": [
    {
     "data": {
      "text/plain": [
       "<sqlite3.Cursor at 0x1fedff4dcc0>"
      ]
     },
     "execution_count": 5,
     "metadata": {},
     "output_type": "execute_result"
    }
   ],
   "source": [
    "# Create the sales table\n",
    "cursor.execute(\"\"\"\n",
    "CREATE TABLE IF NOT EXISTS sales (\n",
    "    order_id TEXT,\n",
    "    amount FLOAT,\n",
    "    profit FLOAT,\n",
    "    quantity INTEGER,\n",
    "    product_name TEXT,\n",
    "    payment_mode TEXT,\n",
    "    order_date TEXT,\n",
    "    state TEXT,\n",
    "    city TEXT,\n",
    "    year_month TEXT\n",
    ")\n",
    "\"\"\")"
   ]
  },
  {
   "cell_type": "code",
   "execution_count": 6,
   "id": "d0f93a13-b96a-430a-811e-12128d46bece",
   "metadata": {},
   "outputs": [
    {
     "data": {
      "text/plain": [
       "1194"
      ]
     },
     "execution_count": 6,
     "metadata": {},
     "output_type": "execute_result"
    }
   ],
   "source": [
    "# Insert CSV data into the sales table\n",
    "df.to_sql(\"sales\", conn, if_exists=\"replace\", index=False)"
   ]
  },
  {
   "cell_type": "code",
   "execution_count": 7,
   "id": "760634ff-9680-446e-9458-817572f4341f",
   "metadata": {},
   "outputs": [
    {
     "name": "stdout",
     "output_type": "stream",
     "text": [
      "Database 'sales_data.db' created and populated with CSV data \n"
     ]
    }
   ],
   "source": [
    "# Commit and close\n",
    "conn.commit()\n",
    "conn.close()\n",
    "\n",
    "print(\"Database 'sales_data.db' created and populated with CSV data \")"
   ]
  }
 ],
 "metadata": {
  "kernelspec": {
   "display_name": "Python 3.13",
   "language": "python",
   "name": "python313"
  },
  "language_info": {
   "codemirror_mode": {
    "name": "ipython",
    "version": 3
   },
   "file_extension": ".py",
   "mimetype": "text/x-python",
   "name": "python",
   "nbconvert_exporter": "python",
   "pygments_lexer": "ipython3",
   "version": "3.13.1"
  }
 },
 "nbformat": 4,
 "nbformat_minor": 5
}
